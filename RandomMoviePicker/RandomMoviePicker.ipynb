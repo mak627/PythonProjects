{
 "cells": [
  {
   "cell_type": "code",
   "execution_count": null,
   "id": "e43b604e-aff8-426e-baa3-62fde2c2ffde",
   "metadata": {},
   "outputs": [],
   "source": [
    "!pip install selenium\n",
    "!pip install beautifulsoup4"
   ]
  },
  {
   "cell_type": "code",
   "execution_count": 64,
   "id": "50544a29-71ef-4182-9e35-fe6b6d62cbad",
   "metadata": {},
   "outputs": [],
   "source": [
    "from selenium import webdriver\n",
    "from selenium.webdriver.chrome.service import Service\n",
    "import requests\n",
    "from bs4 import BeautifulSoup\n",
    "import pandas as pd"
   ]
  },
  {
   "cell_type": "code",
   "execution_count": 65,
   "id": "918f484e-42f6-423a-acb3-d53deb688d78",
   "metadata": {},
   "outputs": [],
   "source": [
    "PATH = \"C:\\\\Users\\man_d\\PycharmProjects\\WebScraping\\chromedriver\"\n",
    "URL = \"https://www.imdb.com/search/title/?groups=top_100\"\n",
    "service = Service(executable_path = PATH)\n",
    "driver = webdriver.Chrome(service = service)\n",
    "driver.get(URL)"
   ]
  },
  {
   "cell_type": "code",
   "execution_count": 66,
   "id": "a0479433-e4e9-42e5-b7d9-38ac48ee9c05",
   "metadata": {},
   "outputs": [],
   "source": [
    "containers= driver.find_elements(by='xpath', value='//div[@class=\"lister-item-content\"]')\n",
    "title = []\n",
    "link = []\n",
    "year = []\n",
    "for container in containers:\n",
    "    v_title = container.find_element(by='xpath', value='./h3/a').text\n",
    "    title.append(v_title)\n",
    "    v_link = container.find_element(by='xpath', value='./h3/a').get_attribute('href')\n",
    "    link.append(v_link)\n",
    "    v_year = container.find_element(by='xpath', value='./h3/span[@class=\"lister-item-year text-muted unbold\"]').text\n",
    "    year.append(v_year[-5:-1])\n",
    "\n",
    "movie_dict = {'title': title, 'link': link, 'year': year}"
   ]
  },
  {
   "cell_type": "code",
   "execution_count": 67,
   "id": "aa2f4412-82e6-4aa5-be25-cf27fdd80fd2",
   "metadata": {},
   "outputs": [
    {
     "data": {
      "text/html": [
       "<div>\n",
       "<style scoped>\n",
       "    .dataframe tbody tr th:only-of-type {\n",
       "        vertical-align: middle;\n",
       "    }\n",
       "\n",
       "    .dataframe tbody tr th {\n",
       "        vertical-align: top;\n",
       "    }\n",
       "\n",
       "    .dataframe thead th {\n",
       "        text-align: right;\n",
       "    }\n",
       "</style>\n",
       "<table border=\"1\" class=\"dataframe\">\n",
       "  <thead>\n",
       "    <tr style=\"text-align: right;\">\n",
       "      <th></th>\n",
       "      <th>Unnamed: 0</th>\n",
       "      <th>title</th>\n",
       "      <th>link</th>\n",
       "      <th>year</th>\n",
       "    </tr>\n",
       "  </thead>\n",
       "  <tbody>\n",
       "    <tr>\n",
       "      <th>0</th>\n",
       "      <td>0</td>\n",
       "      <td>Top Gun: Maverick</td>\n",
       "      <td>https://www.imdb.com/title/tt1745960/?ref_=adv...</td>\n",
       "      <td>2022</td>\n",
       "    </tr>\n",
       "    <tr>\n",
       "      <th>1</th>\n",
       "      <td>1</td>\n",
       "      <td>The Godfather</td>\n",
       "      <td>https://www.imdb.com/title/tt0068646/?ref_=adv...</td>\n",
       "      <td>1972</td>\n",
       "    </tr>\n",
       "    <tr>\n",
       "      <th>2</th>\n",
       "      <td>2</td>\n",
       "      <td>The Godfather Part II</td>\n",
       "      <td>https://www.imdb.com/title/tt0071562/?ref_=adv...</td>\n",
       "      <td>1974</td>\n",
       "    </tr>\n",
       "    <tr>\n",
       "      <th>3</th>\n",
       "      <td>3</td>\n",
       "      <td>The Shawshank Redemption</td>\n",
       "      <td>https://www.imdb.com/title/tt0111161/?ref_=adv...</td>\n",
       "      <td>1994</td>\n",
       "    </tr>\n",
       "    <tr>\n",
       "      <th>4</th>\n",
       "      <td>4</td>\n",
       "      <td>Star Wars</td>\n",
       "      <td>https://www.imdb.com/title/tt0076759/?ref_=adv...</td>\n",
       "      <td>1977</td>\n",
       "    </tr>\n",
       "  </tbody>\n",
       "</table>\n",
       "</div>"
      ],
      "text/plain": [
       "   Unnamed: 0                     title  \\\n",
       "0           0         Top Gun: Maverick   \n",
       "1           1             The Godfather   \n",
       "2           2     The Godfather Part II   \n",
       "3           3  The Shawshank Redemption   \n",
       "4           4                 Star Wars   \n",
       "\n",
       "                                                link  year  \n",
       "0  https://www.imdb.com/title/tt1745960/?ref_=adv...  2022  \n",
       "1  https://www.imdb.com/title/tt0068646/?ref_=adv...  1972  \n",
       "2  https://www.imdb.com/title/tt0071562/?ref_=adv...  1974  \n",
       "3  https://www.imdb.com/title/tt0111161/?ref_=adv...  1994  \n",
       "4  https://www.imdb.com/title/tt0076759/?ref_=adv...  1977  "
      ]
     },
     "execution_count": 67,
     "metadata": {},
     "output_type": "execute_result"
    }
   ],
   "source": [
    "df_movies = pd.DataFrame(movie_dict)\n",
    "df_movies.to_csv(\"Top100movies.csv\")\n",
    "df_movie = pd.read_csv(\"Top100movies.csv\")\n",
    "df_movie.head(5)"
   ]
  },
  {
   "cell_type": "code",
   "execution_count": 55,
   "id": "52746033-0eee-423e-8797-797d12456276",
   "metadata": {},
   "outputs": [
    {
     "data": {
      "text/plain": [
       "Unnamed: 0    0\n",
       "title         0\n",
       "link          0\n",
       "year          0\n",
       "dtype: int64"
      ]
     },
     "execution_count": 55,
     "metadata": {},
     "output_type": "execute_result"
    }
   ],
   "source": [
    "df_movie.isna().sum()"
   ]
  },
  {
   "cell_type": "code",
   "execution_count": 68,
   "id": "53b943d3-2791-48df-82e5-dbd2f67eaa22",
   "metadata": {},
   "outputs": [],
   "source": [
    "import numpy as np\n",
    "movies = np.array(df_movie)"
   ]
  },
  {
   "cell_type": "code",
   "execution_count": 18,
   "id": "c162ddef-7844-44df-b52f-d4de2cc451b4",
   "metadata": {},
   "outputs": [
    {
     "data": {
      "text/plain": [
       "array([1, 'The Godfather',\n",
       "       'https://www.imdb.com/title/tt0068646/?ref_=adv_li_tt', 1972],\n",
       "      dtype=object)"
      ]
     },
     "execution_count": 18,
     "metadata": {},
     "output_type": "execute_result"
    }
   ],
   "source": [
    "movies[1]"
   ]
  },
  {
   "cell_type": "code",
   "execution_count": 69,
   "id": "6ad11bb1-b6c0-4f65-beb7-5005ccf5bcdd",
   "metadata": {},
   "outputs": [],
   "source": [
    "list_movies = []\n",
    "for movie in movies:\n",
    "    list_movies.append((movie[1], movie[2], movie[3]))"
   ]
  },
  {
   "cell_type": "code",
   "execution_count": 20,
   "id": "79c7ee9f-69b5-4efb-802c-591f9aad6c51",
   "metadata": {},
   "outputs": [
    {
     "name": "stdout",
     "output_type": "stream",
     "text": [
      "[('The Shawshank Redemption', 'https://www.imdb.com/title/tt0111161/?ref_=adv_li_tt', 1994), ('Star Wars', 'https://www.imdb.com/title/tt0076759/?ref_=adv_li_tt', 1977)]\n"
     ]
    }
   ],
   "source": [
    "print(list_movies[3:5])"
   ]
  },
  {
   "cell_type": "code",
   "execution_count": 70,
   "id": "fa46e704-6171-47cf-9d50-12bbff655f77",
   "metadata": {},
   "outputs": [],
   "source": [
    "import time\n",
    "def step():\n",
    "    #my_progress['value'] += 20\n",
    "    #my_progress.start(10)\n",
    "    \n",
    "    for x in range(5):\n",
    "        my_progress['value'] += 20\n",
    "        window.update_idletasks()\n",
    "        time.sleep(1)\n",
    "    "
   ]
  },
  {
   "cell_type": "code",
   "execution_count": 71,
   "id": "237144a4-c528-4393-9ad4-e6b710cad629",
   "metadata": {},
   "outputs": [],
   "source": [
    "import random\n",
    "def pick_movie():\n",
    "    step()\n",
    "    t1.config(state = 'normal')\n",
    "    t1.delete('1.0', tk.END)\n",
    "    rc = random.choice(list_movies)\n",
    "    m_name = rc[0]\n",
    "    m_link = str(rc[1])\n",
    "    m_year = str(rc[2])\n",
    "    \n",
    "    msg = m_name + \", \" + m_year\n",
    "    t1.insert(tk.END, msg)\n",
    "    t1.config(state = 'disabled')"
   ]
  },
  {
   "cell_type": "code",
   "execution_count": 72,
   "id": "2a7d3951-e213-4c50-9fbd-7bf992c43f33",
   "metadata": {},
   "outputs": [],
   "source": [
    "import tkinter as tk\n",
    "from tkinter import ttk\n",
    "\n",
    "window = tk.Tk()\n",
    "window.geometry(\"600x500\")\n",
    "window.configure(background=\"gray\")\n",
    "window.resizable(width=False,height=False)\n",
    " \n",
    "l1 = tk.Label(window,text=\"Click! for a movie suggestion!!\",font=(\"Arial\",20),fg=\"Blue\",bg=\"yellow\")\n",
    "b1 = tk.Button(window,text=\"Suggest Movie\",font=(\"Arial\",15),bg=\"skyblue\",fg=\"white\", command=pick_movie)\n",
    "t1 = tk.Text(window,width=52,height=1,font=(\"Arial\",15),fg=\"Blue\",state='disabled')\n",
    "\n",
    "my_progress = ttk.Progressbar(window, orient=HORIZONTAL, length=200, mode='determinate')\n",
    "\n",
    "l1.place(x=75,y=10)\n",
    "b1.place(x=200,y=60)\n",
    "my_progress.place(x=170, y=140)\n",
    "t1.place(x=10,y=250)\n",
    "window.mainloop()"
   ]
  }
 ],
 "metadata": {
  "kernelspec": {
   "display_name": "Python 3 (ipykernel)",
   "language": "python",
   "name": "python3"
  },
  "language_info": {
   "codemirror_mode": {
    "name": "ipython",
    "version": 3
   },
   "file_extension": ".py",
   "mimetype": "text/x-python",
   "name": "python",
   "nbconvert_exporter": "python",
   "pygments_lexer": "ipython3",
   "version": "3.8.13"
  }
 },
 "nbformat": 4,
 "nbformat_minor": 5
}
